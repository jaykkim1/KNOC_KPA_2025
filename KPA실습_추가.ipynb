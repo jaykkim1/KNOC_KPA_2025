{
  "nbformat": 4,
  "nbformat_minor": 0,
  "metadata": {
    "colab": {
      "provenance": [],
      "authorship_tag": "ABX9TyPQVwUBu3ir0Naiyz7ORkWf",
      "include_colab_link": true
    },
    "kernelspec": {
      "name": "python3",
      "display_name": "Python 3"
    },
    "language_info": {
      "name": "python"
    }
  },
  "cells": [
    {
      "cell_type": "markdown",
      "metadata": {
        "id": "view-in-github",
        "colab_type": "text"
      },
      "source": [
        "<a href=\"https://colab.research.google.com/github/jaykkim1/KNOC_KPA_2025/blob/main/KPA%EC%8B%A4%EC%8A%B5_%EC%B6%94%EA%B0%80.ipynb\" target=\"_parent\"><img src=\"https://colab.research.google.com/assets/colab-badge.svg\" alt=\"Open In Colab\"/></a>"
      ]
    },
    {
      "cell_type": "markdown",
      "source": [
        "1. 정규화 (Normalization)\n",
        "\n",
        "데이터를 특정 범위(주로 [0, 1])로 스케일링하는 과정."
      ],
      "metadata": {
        "id": "wJ3RcKHhp309"
      }
    },
    {
      "cell_type": "code",
      "execution_count": 1,
      "metadata": {
        "colab": {
          "base_uri": "https://localhost:8080/"
        },
        "id": "WxWnwCCDpp7f",
        "outputId": "5e3f1fd0-d855-40c1-afb5-44454207a2de"
      },
      "outputs": [
        {
          "output_type": "stream",
          "name": "stdout",
          "text": [
            "원본 데이터:\n",
            " [[10]\n",
            " [15]\n",
            " [20]\n",
            " [25]\n",
            " [30]]\n",
            "\n",
            "정규화된 데이터:\n",
            " [[0.  ]\n",
            " [0.25]\n",
            " [0.5 ]\n",
            " [0.75]\n",
            " [1.  ]]\n"
          ]
        }
      ],
      "source": [
        "import numpy as np\n",
        "from sklearn.preprocessing import MinMaxScaler\n",
        "\n",
        "# 예시 데이터\n",
        "data = np.array([[10], [15], [20], [25], [30]])\n",
        "\n",
        "scaler = MinMaxScaler()\n",
        "normalized = scaler.fit_transform(data)\n",
        "\n",
        "print(\"원본 데이터:\\n\", data)\n",
        "print(\"\\n정규화된 데이터:\\n\", normalized)"
      ]
    },
    {
      "cell_type": "markdown",
      "source": [
        "2. 표준화 (Standardization)\n",
        "\n",
        "데이터를 평균 0, 표준편차 1의 분포로 변환.\n",
        "정규분포(가우시안 분포)를 가정하는 모델(예: 선형 회귀, 로지스틱 회귀, PCA)에 주로 사용."
      ],
      "metadata": {
        "id": "8Gi_Zn3Hp8sW"
      }
    },
    {
      "cell_type": "code",
      "source": [
        "from sklearn.preprocessing import StandardScaler\n",
        "\n",
        "# 예시 데이터\n",
        "data = np.array([[10], [15], [20], [25], [30]])\n",
        "\n",
        "scaler = StandardScaler()\n",
        "standardized = scaler.fit_transform(data)\n",
        "\n",
        "print(\"원본 데이터:\\n\", data)\n",
        "print(\"\\n표준화된 데이터:\\n\", standardized)"
      ],
      "metadata": {
        "colab": {
          "base_uri": "https://localhost:8080/"
        },
        "id": "hvbj9HwVpzLf",
        "outputId": "0e16ed22-af2b-4e6b-ecc5-e7d088700b6e"
      },
      "execution_count": 2,
      "outputs": [
        {
          "output_type": "stream",
          "name": "stdout",
          "text": [
            "원본 데이터:\n",
            " [[10]\n",
            " [15]\n",
            " [20]\n",
            " [25]\n",
            " [30]]\n",
            "\n",
            "표준화된 데이터:\n",
            " [[-1.41421356]\n",
            " [-0.70710678]\n",
            " [ 0.        ]\n",
            " [ 0.70710678]\n",
            " [ 1.41421356]]\n"
          ]
        }
      ]
    }
  ]
}